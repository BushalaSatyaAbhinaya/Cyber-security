{
  "nbformat": 4,
  "nbformat_minor": 0,
  "metadata": {
    "colab": {
      "provenance": [],
      "authorship_tag": "ABX9TyM17kA1SZE6XUh1+vGk7oGO",
      "include_colab_link": true
    },
    "kernelspec": {
      "name": "python3",
      "display_name": "Python 3"
    },
    "language_info": {
      "name": "python"
    }
  },
  "cells": [
    {
      "cell_type": "markdown",
      "metadata": {
        "id": "view-in-github",
        "colab_type": "text"
      },
      "source": [
        "<a href=\"https://colab.research.google.com/github/BushalaSatyaAbhinaya/Cyber-security/blob/main/cryptography.ipynb\" target=\"_parent\"><img src=\"https://colab.research.google.com/assets/colab-badge.svg\" alt=\"Open In Colab\"/></a>"
      ]
    },
    {
      "cell_type": "code",
      "execution_count": 5,
      "metadata": {
        "colab": {
          "base_uri": "https://localhost:8080/"
        },
        "id": "GWtf5pjlf8wE",
        "outputId": "9feb03ca-f82c-40b9-a3a3-bd9e0d211f86"
      },
      "outputs": [
        {
          "output_type": "stream",
          "name": "stdout",
          "text": [
            "Requirement already satisfied: pycryptodome in /usr/local/lib/python3.11/dist-packages (3.22.0)\n",
            "Encrypted data: b'HPUJo2XcJv8PZLUmsvkmR42iFlUNwO/L5gbJoNrGQHmQhoEjydcnRvsCcQ0uax9Szw=='\n"
          ]
        }
      ],
      "source": [
        "!pip install pycryptodome\n",
        "#Encypting code\n",
        "from Crypto.Cipher import AES\n",
        "from Crypto.Random import get_random_bytes\n",
        "import base64\n",
        "# Generate a random key\n",
        "#key = get_random_bytes(16) # AES key must be either 16, 24, or 32 bytes long\n",
        "# Create a new AES cipher\n",
        "cipher = AES.new(key, AES.MODE_EAX)\n",
        "# Encrypt the data\n",
        "data = b'ABHINAYA BUSHALA!'\n",
        "ciphertext, tag = cipher.encrypt_and_digest(data)\n",
        "# Output the encrypted data\n",
        "nonce = cipher.nonce\n",
        "encrypted_data = base64.b64encode(nonce + tag + ciphertext) # Encode for easy display\n",
        "print(\"Encrypted data:\", encrypted_data)"
      ]
    },
    {
      "cell_type": "code",
      "source": [
        "key"
      ],
      "metadata": {
        "colab": {
          "base_uri": "https://localhost:8080/"
        },
        "id": "pOhd9uK7msSO",
        "outputId": "2b28772a-c00d-4a61-aa25-9586aaa5d9d7"
      },
      "execution_count": 7,
      "outputs": [
        {
          "output_type": "execute_result",
          "data": {
            "text/plain": [
              "b'T\\xd1\\x86\\xfe)N\\x18\\x1ak\\x012\\x068(\\xc2\\xed'"
            ]
          },
          "metadata": {},
          "execution_count": 7
        }
      ]
    },
    {
      "cell_type": "code",
      "source": [
        "# Decode the encrypted data\n",
        "decoded_data = base64.b64decode(encrypted_data)\n",
        "# Extract the nonce, tag, and ciphertext\n",
        "nonce = decoded_data[:16]\n",
        "tag = decoded_data[16:32]\n",
        "ciphertext = decoded_data[32:]\n",
        "# Create a new cipher for decryption\n",
        "cipher = AES.new(key, AES.MODE_EAX, nonce=nonce)\n",
        "# Decrypt the data\n",
        "decrypted_data = cipher.decrypt_and_verify(ciphertext, tag)\n",
        "# Output the decrypted data\n",
        "print(\"Decrypted data:\", decrypted_data.decode())"
      ],
      "metadata": {
        "colab": {
          "base_uri": "https://localhost:8080/"
        },
        "id": "fODMFmxKgobz",
        "outputId": "8342f67b-c639-4663-b4c3-1ec7e844f8e6"
      },
      "execution_count": 8,
      "outputs": [
        {
          "output_type": "stream",
          "name": "stdout",
          "text": [
            "Decrypted data: ABHINAYA BUSHALA!\n"
          ]
        }
      ]
    }
  ]
}